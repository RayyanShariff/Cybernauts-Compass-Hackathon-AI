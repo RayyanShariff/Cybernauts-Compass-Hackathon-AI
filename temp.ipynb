{
 "cells": [
  {
   "cell_type": "code",
   "execution_count": 14,
   "metadata": {},
   "outputs": [],
   "source": [
    "from dotenv import load_dotenv"
   ]
  },
  {
   "cell_type": "code",
   "execution_count": 10,
   "metadata": {},
   "outputs": [],
   "source": [
    "import transformers\n",
    "from gtts import gTTS\n",
    "import os\n",
    "\n",
    "# Load the pre-trained GPT-2 model and tokenizer into the pipeline\n",
    "model_id = \"gpt2\"  # Other available options include \"gpt2-medium\", \"gpt2-large\", etc.\n",
    "text_generator = transformers.pipeline(\"text-generation\", model=model_id)\n",
    "\n",
    "def generate_text(prompt, max_length=150, temperature=0.7):\n",
    "    # Generate text using the pipeline\n",
    "    generated = text_generator(prompt, max_length=max_length, temperature=temperature, num_return_sequences=1)\n",
    "    return generated[0]['generated_text']\n",
    "\n",
    "def text_to_audio(text, filename=\"output.mp3\"):\n",
    "    # Initialize the TTS engine\n",
    "    tts = gTTS(text=text, lang='en')\n",
    "    # Save the audio to a file\n",
    "    tts.save(filename)\n",
    "    # Play the audio file\n",
    "    os.system(f\"start {filename}\")  # For Windows\n",
    "    # os.system(f\"afplay {filename}\")  # For macOS\n",
    "    # os.system(f\"xdg-open {filename}\")  # For Linux\n",
    "\n",
    "# # Ask the user for the prompt\n",
    "# user_prompt = input(\"Enter a prompt: \")\n",
    "\n",
    "# # Generate text based on the user's prompt\n",
    "# generated_text = generate_text(user_prompt)\n",
    "# print(\"\\nGenerated Text:\\n\")\n",
    "# print(generated_text)\n",
    "\n",
    "# Convert the generated text to audio\n",
    "# text_to_audio(generated_text)"
   ]
  },
  {
   "cell_type": "code",
   "execution_count": 23,
   "metadata": {},
   "outputs": [
    {
     "name": "stdout",
     "output_type": "stream",
     "text": [
      " * Serving Flask app '__main__'\n",
      " * Debug mode: off\n"
     ]
    },
    {
     "name": "stderr",
     "output_type": "stream",
     "text": [
      "WARNING: This is a development server. Do not use it in a production deployment. Use a production WSGI server instead.\n",
      " * Running on http://127.0.0.1:5000\n",
      "Press CTRL+C to quit\n",
      "127.0.0.1 - - [08/Jun/2024 03:32:59] \"OPTIONS /generate HTTP/1.1\" 404 -\n",
      "127.0.0.1 - - [08/Jun/2024 03:33:08] \"OPTIONS /generate HTTP/1.1\" 404 -\n"
     ]
    }
   ],
   "source": [
    "from flask import Flask, request, jsonify\n",
    "from flask_cors import CORS\n",
    "import nbformat\n",
    "from nbconvert.preprocessors import ExecutePreprocessor\n",
    "\n",
    "app = Flask(__name__)\n",
    "CORS(app, resources={r\"/*\": {\"origins\": \"*\"}})  # Allow all origins for testing\n",
    "\n",
    "@app.route('/')\n",
    "def home():\n",
    "    return \"Flask server is running!\"\n",
    "\n",
    "@app.route('/run_notebook', methods=['POST'])\n",
    "def run_notebook():\n",
    "    data = request.get_json()\n",
    "    user_input = data.get('user_input', '')\n",
    "    # Do something with user_input, e.g., pass it to a function or a cell in the notebook\n",
    "    # output = f\"Received input: {user_input}\"\n",
    "    output = generate_text(str(user_input))\n",
    "    return jsonify({'output': output})\n",
    "\n",
    "if __name__ == '__main__':\n",
    "    app.run(port=5000)\n"
   ]
  }
 ],
 "metadata": {
  "kernelspec": {
   "display_name": "Python 3",
   "language": "python",
   "name": "python3"
  },
  "language_info": {
   "codemirror_mode": {
    "name": "ipython",
    "version": 3
   },
   "file_extension": ".py",
   "mimetype": "text/x-python",
   "name": "python",
   "nbconvert_exporter": "python",
   "pygments_lexer": "ipython3",
   "version": "3.11.7"
  }
 },
 "nbformat": 4,
 "nbformat_minor": 2
}
